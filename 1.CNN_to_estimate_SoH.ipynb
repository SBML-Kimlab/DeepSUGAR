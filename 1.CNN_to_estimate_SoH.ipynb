{
 "cells": [
  {
   "cell_type": "markdown",
   "id": "6aee73ce",
   "metadata": {},
   "source": [
    "# CNN"
   ]
  },
  {
   "cell_type": "markdown",
   "id": "1ca7508c",
   "metadata": {},
   "source": [
    "## 0. Import libraries"
   ]
  },
  {
   "cell_type": "code",
   "execution_count": 75,
   "id": "eda89820",
   "metadata": {},
   "outputs": [],
   "source": [
    "import pandas as pd\n",
    "import numpy as np\n",
    "import cv2 as cv\n",
    "import matplotlib.pyplot as plt\n",
    "\n",
    "import sys\n",
    "import time\n",
    "\n",
    "import tensorflow as tf \n",
    "import keras\n",
    "\n",
    "from keras.models import Sequential, Model, load_model\n",
    "from keras.layers import Dense, Dropout, Flatten\n",
    "from keras.layers.convolutional import Conv2D, MaxPooling2D\n",
    "from keras.utils import np_utils\n",
    "from tensorflow.keras.utils import plot_model\n",
    "\n",
    "from sklearn.model_selection import StratifiedShuffleSplit, train_test_split\n",
    "from sklearn import metrics\n",
    "from sklearn.model_selection import train_test_split"
   ]
  },
  {
   "cell_type": "markdown",
   "id": "51fc554a",
   "metadata": {},
   "source": [
    "## 1. Load dataset"
   ]
  },
  {
   "cell_type": "code",
   "execution_count": 76,
   "id": "c808f46b",
   "metadata": {},
   "outputs": [],
   "source": [
    "d_pack = pd.read_csv('/home/sbml/cgan/230306_data/padding/pack_preprocessed.csv')[['resized_scaled','soh']]\n",
    "d_pack_n = pd.read_csv('/home/sbml/cgan/230306_data/padding/pack_noise_preprocessed.csv')[['resized_scaled','soh']]\n",
    "d_module = pd.read_csv('/home/sbml/cgan/230306_data/padding/module_preprocessed.csv')[['resized_scaled','soh']]"
   ]
  },
  {
   "cell_type": "code",
   "execution_count": 77,
   "id": "a013c7dd",
   "metadata": {},
   "outputs": [
    {
     "data": {
      "text/html": [
       "<div>\n",
       "<style scoped>\n",
       "    .dataframe tbody tr th:only-of-type {\n",
       "        vertical-align: middle;\n",
       "    }\n",
       "\n",
       "    .dataframe tbody tr th {\n",
       "        vertical-align: top;\n",
       "    }\n",
       "\n",
       "    .dataframe thead th {\n",
       "        text-align: right;\n",
       "    }\n",
       "</style>\n",
       "<table border=\"1\" class=\"dataframe\">\n",
       "  <thead>\n",
       "    <tr style=\"text-align: right;\">\n",
       "      <th></th>\n",
       "      <th>resized_scaled</th>\n",
       "      <th>soh</th>\n",
       "    </tr>\n",
       "  </thead>\n",
       "  <tbody>\n",
       "    <tr>\n",
       "      <th>0</th>\n",
       "      <td>[[0, 255, 123], [43, 250, 125], [63, 248, 126]...</td>\n",
       "      <td>1.000000</td>\n",
       "    </tr>\n",
       "    <tr>\n",
       "      <th>1</th>\n",
       "      <td>[[36, 237, 129], [67, 255, 130], [80, 253, 131...</td>\n",
       "      <td>1.004347</td>\n",
       "    </tr>\n",
       "    <tr>\n",
       "      <th>2</th>\n",
       "      <td>[[35, 206, 126], [67, 255, 128], [80, 253, 129...</td>\n",
       "      <td>0.998310</td>\n",
       "    </tr>\n",
       "    <tr>\n",
       "      <th>3</th>\n",
       "      <td>[[38, 247, 129], [69, 255, 130], [82, 253, 131...</td>\n",
       "      <td>1.003081</td>\n",
       "    </tr>\n",
       "    <tr>\n",
       "      <th>4</th>\n",
       "      <td>[[38, 253, 129], [69, 255, 130], [83, 253, 131...</td>\n",
       "      <td>1.002356</td>\n",
       "    </tr>\n",
       "    <tr>\n",
       "      <th>...</th>\n",
       "      <td>...</td>\n",
       "      <td>...</td>\n",
       "    </tr>\n",
       "    <tr>\n",
       "      <th>1745</th>\n",
       "      <td>[[45, 199, 126], [77, 255, 130], [91, 254, 131...</td>\n",
       "      <td>0.908688</td>\n",
       "    </tr>\n",
       "    <tr>\n",
       "      <th>1746</th>\n",
       "      <td>[[43, 197, 128], [77, 256, 128], [90, 253, 131...</td>\n",
       "      <td>0.908688</td>\n",
       "    </tr>\n",
       "    <tr>\n",
       "      <th>1747</th>\n",
       "      <td>[[44, 197, 127], [78, 256, 128], [90, 253, 131...</td>\n",
       "      <td>0.908688</td>\n",
       "    </tr>\n",
       "    <tr>\n",
       "      <th>1748</th>\n",
       "      <td>[[44, 198, 126], [78, 256, 129], [89, 254, 129...</td>\n",
       "      <td>0.908688</td>\n",
       "    </tr>\n",
       "    <tr>\n",
       "      <th>1749</th>\n",
       "      <td>[[45, 198, 128], [77, 256, 129], [90, 254, 132...</td>\n",
       "      <td>0.908688</td>\n",
       "    </tr>\n",
       "  </tbody>\n",
       "</table>\n",
       "<p>1925 rows × 2 columns</p>\n",
       "</div>"
      ],
      "text/plain": [
       "                                         resized_scaled       soh\n",
       "0     [[0, 255, 123], [43, 250, 125], [63, 248, 126]...  1.000000\n",
       "1     [[36, 237, 129], [67, 255, 130], [80, 253, 131...  1.004347\n",
       "2     [[35, 206, 126], [67, 255, 128], [80, 253, 129...  0.998310\n",
       "3     [[38, 247, 129], [69, 255, 130], [82, 253, 131...  1.003081\n",
       "4     [[38, 253, 129], [69, 255, 130], [83, 253, 131...  1.002356\n",
       "...                                                 ...       ...\n",
       "1745  [[45, 199, 126], [77, 255, 130], [91, 254, 131...  0.908688\n",
       "1746  [[43, 197, 128], [77, 256, 128], [90, 253, 131...  0.908688\n",
       "1747  [[44, 197, 127], [78, 256, 128], [90, 253, 131...  0.908688\n",
       "1748  [[44, 198, 126], [78, 256, 129], [89, 254, 129...  0.908688\n",
       "1749  [[45, 198, 128], [77, 256, 129], [90, 254, 132...  0.908688\n",
       "\n",
       "[1925 rows x 2 columns]"
      ]
     },
     "execution_count": 77,
     "metadata": {},
     "output_type": "execute_result"
    }
   ],
   "source": [
    "d_pack = pd.concat([d_pack, d_pack_n])\n",
    "d_pack"
   ]
  },
  {
   "cell_type": "code",
   "execution_count": 126,
   "id": "1a6ab670",
   "metadata": {
    "scrolled": true
   },
   "outputs": [],
   "source": [
    "X = [eval(i) for i in d_pack['resized_scaled'].tolist()]\n",
    "X = np.array(X)\n",
    "y = np.array(d_pack['soh'].tolist()) "
   ]
  },
  {
   "cell_type": "code",
   "execution_count": 127,
   "id": "048fba0a",
   "metadata": {},
   "outputs": [],
   "source": [
    "X_module = [eval(i) for i in d_module['resized_scaled'].tolist()]\n",
    "X_module = np.array(X_module)\n",
    "y_module = np.array(d_module['soh'].tolist()) "
   ]
  },
  {
   "cell_type": "code",
   "execution_count": 128,
   "id": "c97bd5be",
   "metadata": {},
   "outputs": [],
   "source": [
    "label = y\n",
    "label_l = []\n",
    "for cnt in range(len(label)):\n",
    "    i = label[cnt]\n",
    "    if i>=1.0 : \n",
    "        lab = '1~'\n",
    "        num = 0\n",
    "    elif 0.98<=i<1.0 :\n",
    "        lab = '0.98~1'\n",
    "        num = 1\n",
    "    elif 0.96<=i<0.98 :\n",
    "        lab = '0.96~0.98'\n",
    "        num = 2\n",
    "    elif 0.94<=i<0.96 :\n",
    "        lab = '0.94~0.96'\n",
    "        num = 3\n",
    "    elif 0.92<=i<0.94 :\n",
    "        lab = '0.92~0.94'\n",
    "        num = 4\n",
    "    elif 0.90<=i<0.92 :\n",
    "        lab = '0.90~0.92'\n",
    "        num = 5\n",
    "        \n",
    "    label_l.append(num)"
   ]
  },
  {
   "cell_type": "markdown",
   "id": "7edd66ba",
   "metadata": {},
   "source": [
    "## 2. CNN regression"
   ]
  },
  {
   "cell_type": "code",
   "execution_count": 129,
   "id": "09c7d038",
   "metadata": {},
   "outputs": [],
   "source": [
    "sss = StratifiedShuffleSplit(n_splits = 10, test_size = 0.3)\n",
    "for train_idx, test_idx in sss.split(X, np.array(label_l)):\n",
    "    X_train, X_test = X[train_idx], X[test_idx]\n",
    "    y_train, y_test = np.array(y)[train_idx], np.array(y)[test_idx]\n",
    "    y_valid = np.array(label_l)[test_idx]"
   ]
  },
  {
   "cell_type": "code",
   "execution_count": 130,
   "id": "1b8fe656",
   "metadata": {},
   "outputs": [
    {
     "data": {
      "text/plain": [
       "(404, 256, 3)"
      ]
     },
     "execution_count": 130,
     "metadata": {},
     "output_type": "execute_result"
    }
   ],
   "source": [
    "sss = StratifiedShuffleSplit(n_splits = 10, test_size = 0.3)\n",
    "for train_idx, test_idx1 in sss.split(X_test, y_valid):\n",
    "    X_valid, X_test_f = X_test[train_idx], X_test[test_idx1]\n",
    "    y_valid, y_test_f = np.array(y_test)[train_idx], np.array(y_test)[test_idx1]\n",
    "X_valid.shape"
   ]
  },
  {
   "cell_type": "code",
   "execution_count": 131,
   "id": "9bf46aad",
   "metadata": {},
   "outputs": [],
   "source": [
    "X_train = X_train\n",
    "X_valid = X_valid\n",
    "X_test = X_test_f\n",
    "\n",
    "y_test = y_test_f"
   ]
  },
  {
   "cell_type": "code",
   "execution_count": 132,
   "id": "fb8f251a",
   "metadata": {},
   "outputs": [],
   "source": [
    "rows = len(X[0])\n",
    "cols = 3\n",
    "batch_size = 64\n",
    "input_shape = (rows, cols, 1)\n",
    "x_train = X_train.reshape(X_train.shape[0], rows, cols, 1)\n",
    "x_test = X_test.reshape(X_test.shape[0], rows, cols, 1)\n",
    "x_valid = X_valid.reshape(X_valid.shape[0], rows, cols, 1)\n",
    "\n",
    "x_train = x_train.astype('float32') /255.0\n",
    "x_test = x_test.astype('float32')/255.0\n",
    "x_valid = x_valid.astype('float32')/255.0"
   ]
  },
  {
   "cell_type": "code",
   "execution_count": 133,
   "id": "0fa41e84",
   "metadata": {},
   "outputs": [],
   "source": [
    "X_module = X_module.reshape(X_module.shape[0], rows, cols, 1)\n",
    "X_module = X_module.astype('float32') /255.0"
   ]
  },
  {
   "cell_type": "code",
   "execution_count": 134,
   "id": "65f8f7f7",
   "metadata": {
    "scrolled": false
   },
   "outputs": [
    {
     "name": "stdout",
     "output_type": "stream",
     "text": [
      "Model: \"sequential_7\"\n",
      "_________________________________________________________________\n",
      " Layer (type)                Output Shape              Param #   \n",
      "=================================================================\n",
      " conv2d_14 (Conv2D)          (None, 256, 3, 32)        160       \n",
      "                                                                 \n",
      " conv2d_15 (Conv2D)          (None, 256, 3, 64)        8256      \n",
      "                                                                 \n",
      " max_pooling2d_7 (MaxPooling  (None, 255, 2, 64)       0         \n",
      " 2D)                                                             \n",
      "                                                                 \n",
      " flatten_7 (Flatten)         (None, 32640)             0         \n",
      "                                                                 \n",
      " dense_14 (Dense)            (None, 64)                2089024   \n",
      "                                                                 \n",
      " dense_15 (Dense)            (None, 1)                 65        \n",
      "                                                                 \n",
      "=================================================================\n",
      "Total params: 2,097,505\n",
      "Trainable params: 2,097,505\n",
      "Non-trainable params: 0\n",
      "_________________________________________________________________\n"
     ]
    }
   ],
   "source": [
    "model = Sequential()\n",
    "model.add(Conv2D(32, kernel_size = (2,2), strides = (1,1), padding = 'same', activation = 'relu', input_shape = input_shape))\n",
    "model.add(Conv2D(64, kernel_size = (2,2), strides = (1,1), padding = 'same', activation = 'relu', input_shape = input_shape))\n",
    "model.add(MaxPooling2D(pool_size = (2,2), strides = (1,1)))\n",
    "model.add(Flatten())\n",
    "model.add(Dense(64,activation = 'relu'))\n",
    "model.add(Dense(1))\n",
    "model.summary()"
   ]
  },
  {
   "cell_type": "code",
   "execution_count": 135,
   "id": "a3800ae9",
   "metadata": {
    "scrolled": true
   },
   "outputs": [
    {
     "name": "stdout",
     "output_type": "stream",
     "text": [
      "Epoch 1/50\n",
      "43/43 [==============================] - 0s 4ms/step - loss: 0.0557 - mse: 0.0557 - val_loss: 6.6734e-05 - val_mse: 6.6734e-05\n",
      "Epoch 2/50\n",
      "43/43 [==============================] - 0s 3ms/step - loss: 9.5820e-05 - mse: 9.5820e-05 - val_loss: 4.2665e-05 - val_mse: 4.2665e-05\n",
      "Epoch 3/50\n",
      "43/43 [==============================] - 0s 3ms/step - loss: 3.2319e-05 - mse: 3.2319e-05 - val_loss: 4.6471e-05 - val_mse: 4.6471e-05\n",
      "Epoch 4/50\n",
      "43/43 [==============================] - 0s 3ms/step - loss: 3.0480e-05 - mse: 3.0480e-05 - val_loss: 2.5878e-05 - val_mse: 2.5878e-05\n",
      "Epoch 5/50\n",
      "43/43 [==============================] - 0s 3ms/step - loss: 2.9410e-05 - mse: 2.9410e-05 - val_loss: 2.4700e-05 - val_mse: 2.4700e-05\n",
      "Epoch 6/50\n",
      "43/43 [==============================] - 0s 3ms/step - loss: 2.9844e-05 - mse: 2.9844e-05 - val_loss: 6.7727e-05 - val_mse: 6.7727e-05\n",
      "Epoch 7/50\n",
      "43/43 [==============================] - 0s 3ms/step - loss: 3.8429e-05 - mse: 3.8429e-05 - val_loss: 6.1010e-05 - val_mse: 6.1010e-05\n",
      "Epoch 8/50\n",
      "43/43 [==============================] - 0s 3ms/step - loss: 3.1276e-05 - mse: 3.1276e-05 - val_loss: 2.8518e-05 - val_mse: 2.8518e-05\n",
      "Epoch 9/50\n",
      "43/43 [==============================] - 0s 3ms/step - loss: 2.3243e-05 - mse: 2.3243e-05 - val_loss: 2.3035e-05 - val_mse: 2.3035e-05\n",
      "Epoch 10/50\n",
      "43/43 [==============================] - 0s 3ms/step - loss: 3.2713e-05 - mse: 3.2713e-05 - val_loss: 4.0027e-04 - val_mse: 4.0027e-04\n",
      "Epoch 11/50\n",
      "43/43 [==============================] - 0s 3ms/step - loss: 8.7729e-05 - mse: 8.7729e-05 - val_loss: 9.4317e-05 - val_mse: 9.4317e-05\n",
      "Epoch 12/50\n",
      "43/43 [==============================] - 0s 3ms/step - loss: 8.5461e-05 - mse: 8.5461e-05 - val_loss: 1.5468e-04 - val_mse: 1.5468e-04\n",
      "Epoch 13/50\n",
      "43/43 [==============================] - 0s 3ms/step - loss: 5.7923e-05 - mse: 5.7923e-05 - val_loss: 4.9591e-05 - val_mse: 4.9591e-05\n",
      "Epoch 14/50\n",
      "43/43 [==============================] - 0s 3ms/step - loss: 3.0214e-05 - mse: 3.0214e-05 - val_loss: 2.2231e-05 - val_mse: 2.2231e-05\n",
      "Epoch 15/50\n",
      "43/43 [==============================] - 0s 3ms/step - loss: 2.9692e-05 - mse: 2.9692e-05 - val_loss: 2.2646e-05 - val_mse: 2.2646e-05\n",
      "Epoch 16/50\n",
      "43/43 [==============================] - 0s 3ms/step - loss: 3.8260e-05 - mse: 3.8260e-05 - val_loss: 2.5691e-05 - val_mse: 2.5691e-05\n",
      "Epoch 17/50\n",
      "43/43 [==============================] - 0s 3ms/step - loss: 3.3173e-05 - mse: 3.3173e-05 - val_loss: 2.2459e-04 - val_mse: 2.2459e-04\n",
      "Epoch 18/50\n",
      "43/43 [==============================] - 0s 3ms/step - loss: 6.7018e-05 - mse: 6.7018e-05 - val_loss: 2.2802e-05 - val_mse: 2.2802e-05\n",
      "Epoch 19/50\n",
      "43/43 [==============================] - 0s 3ms/step - loss: 3.9815e-05 - mse: 3.9815e-05 - val_loss: 3.3489e-05 - val_mse: 3.3489e-05\n",
      "Epoch 20/50\n",
      "43/43 [==============================] - 0s 3ms/step - loss: 4.8092e-05 - mse: 4.8092e-05 - val_loss: 2.0718e-05 - val_mse: 2.0718e-05\n",
      "Epoch 21/50\n",
      "43/43 [==============================] - 0s 3ms/step - loss: 7.8982e-05 - mse: 7.8982e-05 - val_loss: 9.0100e-05 - val_mse: 9.0100e-05\n",
      "Epoch 22/50\n",
      "43/43 [==============================] - 0s 3ms/step - loss: 4.9209e-05 - mse: 4.9209e-05 - val_loss: 2.4776e-05 - val_mse: 2.4776e-05\n",
      "Epoch 23/50\n",
      "43/43 [==============================] - 0s 3ms/step - loss: 3.1401e-05 - mse: 3.1401e-05 - val_loss: 2.6883e-04 - val_mse: 2.6883e-04\n",
      "Epoch 24/50\n",
      "43/43 [==============================] - 0s 3ms/step - loss: 6.1427e-05 - mse: 6.1427e-05 - val_loss: 2.5769e-05 - val_mse: 2.5769e-05\n",
      "Epoch 25/50\n",
      "43/43 [==============================] - 0s 3ms/step - loss: 3.8056e-05 - mse: 3.8056e-05 - val_loss: 1.0683e-04 - val_mse: 1.0683e-04\n",
      "Epoch 26/50\n",
      "43/43 [==============================] - 0s 2ms/step - loss: 4.7916e-05 - mse: 4.7916e-05 - val_loss: 1.8424e-05 - val_mse: 1.8424e-05\n",
      "Epoch 27/50\n",
      "43/43 [==============================] - 0s 3ms/step - loss: 2.7924e-05 - mse: 2.7924e-05 - val_loss: 1.9536e-05 - val_mse: 1.9536e-05\n",
      "Epoch 28/50\n",
      "43/43 [==============================] - 0s 3ms/step - loss: 4.8992e-05 - mse: 4.8992e-05 - val_loss: 4.4472e-05 - val_mse: 4.4472e-05\n",
      "Epoch 29/50\n",
      "43/43 [==============================] - 0s 3ms/step - loss: 5.8496e-05 - mse: 5.8496e-05 - val_loss: 5.2230e-04 - val_mse: 5.2230e-04\n",
      "Epoch 30/50\n",
      "43/43 [==============================] - 0s 3ms/step - loss: 6.4513e-05 - mse: 6.4513e-05 - val_loss: 2.6417e-05 - val_mse: 2.6417e-05\n",
      "Epoch 31/50\n",
      "43/43 [==============================] - 0s 3ms/step - loss: 3.5381e-05 - mse: 3.5381e-05 - val_loss: 1.7193e-05 - val_mse: 1.7193e-05\n",
      "Epoch 32/50\n",
      "43/43 [==============================] - 0s 3ms/step - loss: 4.0640e-05 - mse: 4.0640e-05 - val_loss: 2.2396e-04 - val_mse: 2.2396e-04\n",
      "Epoch 33/50\n",
      "43/43 [==============================] - 0s 3ms/step - loss: 1.0288e-04 - mse: 1.0288e-04 - val_loss: 2.0312e-05 - val_mse: 2.0312e-05\n",
      "Epoch 34/50\n",
      "43/43 [==============================] - 0s 3ms/step - loss: 4.7306e-05 - mse: 4.7306e-05 - val_loss: 2.5515e-05 - val_mse: 2.5515e-05\n",
      "Epoch 35/50\n",
      "43/43 [==============================] - 0s 2ms/step - loss: 9.3324e-05 - mse: 9.3324e-05 - val_loss: 1.8656e-05 - val_mse: 1.8656e-05\n",
      "Epoch 36/50\n",
      "43/43 [==============================] - 0s 3ms/step - loss: 2.8060e-05 - mse: 2.8060e-05 - val_loss: 1.8705e-05 - val_mse: 1.8705e-05\n",
      "Epoch 37/50\n",
      "43/43 [==============================] - 0s 3ms/step - loss: 6.9447e-05 - mse: 6.9447e-05 - val_loss: 3.2397e-05 - val_mse: 3.2397e-05\n",
      "Epoch 38/50\n",
      "43/43 [==============================] - 0s 3ms/step - loss: 3.8645e-05 - mse: 3.8645e-05 - val_loss: 3.8200e-05 - val_mse: 3.8200e-05\n",
      "Epoch 39/50\n",
      "43/43 [==============================] - 0s 3ms/step - loss: 4.8688e-05 - mse: 4.8688e-05 - val_loss: 3.1864e-05 - val_mse: 3.1864e-05\n",
      "Epoch 40/50\n",
      "43/43 [==============================] - 0s 3ms/step - loss: 7.5312e-05 - mse: 7.5312e-05 - val_loss: 1.7551e-04 - val_mse: 1.7551e-04\n",
      "Epoch 41/50\n",
      "43/43 [==============================] - 0s 3ms/step - loss: 9.7445e-05 - mse: 9.7445e-05 - val_loss: 3.3457e-05 - val_mse: 3.3457e-05\n",
      "Epoch 42/50\n",
      "43/43 [==============================] - 0s 3ms/step - loss: 7.2408e-05 - mse: 7.2408e-05 - val_loss: 4.7131e-05 - val_mse: 4.7131e-05\n",
      "Epoch 43/50\n",
      "43/43 [==============================] - 0s 3ms/step - loss: 3.0446e-04 - mse: 3.0446e-04 - val_loss: 6.7241e-05 - val_mse: 6.7241e-05\n",
      "Epoch 44/50\n",
      "43/43 [==============================] - 0s 3ms/step - loss: 4.8864e-05 - mse: 4.8864e-05 - val_loss: 1.1516e-04 - val_mse: 1.1516e-04\n",
      "Epoch 45/50\n",
      "43/43 [==============================] - 0s 3ms/step - loss: 8.7150e-05 - mse: 8.7150e-05 - val_loss: 6.8330e-05 - val_mse: 6.8330e-05\n",
      "Epoch 46/50\n",
      "43/43 [==============================] - 0s 3ms/step - loss: 7.7807e-05 - mse: 7.7807e-05 - val_loss: 0.0017 - val_mse: 0.0017\n",
      "Epoch 47/50\n",
      "43/43 [==============================] - 0s 3ms/step - loss: 2.3762e-04 - mse: 2.3762e-04 - val_loss: 1.2749e-04 - val_mse: 1.2749e-04\n",
      "Epoch 48/50\n",
      "43/43 [==============================] - 0s 3ms/step - loss: 5.4519e-05 - mse: 5.4519e-05 - val_loss: 2.9644e-05 - val_mse: 2.9644e-05\n",
      "Epoch 49/50\n",
      "43/43 [==============================] - 0s 3ms/step - loss: 4.1713e-05 - mse: 4.1713e-05 - val_loss: 2.2273e-04 - val_mse: 2.2273e-04\n",
      "Epoch 50/50\n",
      "43/43 [==============================] - 0s 3ms/step - loss: 9.7150e-05 - mse: 9.7150e-05 - val_loss: 2.5603e-05 - val_mse: 2.5603e-05\n",
      "6/6 [==============================] - 0s 1ms/step - loss: 2.3583e-05 - mse: 2.3583e-05\n",
      "Test loss: 2.3582784706377424e-05\n",
      "Test accuracy: 2.3582784706377424e-05\n",
      "Training Time: 6.060006141662598\n"
     ]
    }
   ],
   "source": [
    "start = time.time()\n",
    "epochs = 50\n",
    "model.compile(loss = 'mean_squared_error', optimizer = 'adam', metrics = ['mse'])\n",
    "hist = model.fit(x_train, y_train, epochs = epochs, verbose = 1, validation_data = (x_valid, y_valid))\n",
    "score = model.evaluate(x_test, y_test, verbose = 1)\n",
    "print('Test loss:', score[0])\n",
    "print('Test accuracy:', score[1])\n",
    "end = time.time()\n",
    "\n",
    "print('Training Time: ' + str(end-start))"
   ]
  },
  {
   "cell_type": "code",
   "execution_count": 136,
   "id": "ad13e2aa",
   "metadata": {},
   "outputs": [
    {
     "data": {
      "text/plain": [
       "Text(0.5, 1.0, 'epoch40_loss')"
      ]
     },
     "execution_count": 136,
     "metadata": {},
     "output_type": "execute_result"
    },
    {
     "data": {
      "image/png": "[encoded data removed]",
      "text/plain": [
       "<Figure size 432x288 with 1 Axes>"
      ]
     },
     "metadata": {
      "needs_background": "light"
     },
     "output_type": "display_data"
    }
   ],
   "source": [
    "y_vloss = hist.history['val_loss']\n",
    "y_loss = hist.history['loss']\n",
    "x_len = np.arange(len(y_loss))\n",
    "\n",
    "plt.plot(x_len, y_vloss, marker='.', c='red', label=\"Validation-set Loss\")\n",
    "plt.plot(x_len, y_loss, marker='.', c='blue', label=\"Train-set Loss\")\n",
    "plt.legend()\n",
    "plt.title('epoch40_loss')\n",
    "#plt.savefig('/home/sbml/cgan/230306_data/cnn_loss.svg')"
   ]
  },
  {
   "cell_type": "code",
   "execution_count": 137,
   "id": "4c2ed369",
   "metadata": {},
   "outputs": [],
   "source": [
    "predict = model.predict(x_test, verbose = 0)"
   ]
  },
  {
   "cell_type": "code",
   "execution_count": 138,
   "id": "dce0182c",
   "metadata": {
    "scrolled": true
   },
   "outputs": [
    {
     "name": "stdout",
     "output_type": "stream",
     "text": [
      "predicted SOH:  [0.93696946] , Answer SOH:  0.9371419382254752\n",
      "predicted SOH:  [0.98897946] , Answer SOH:  0.9879850257521536\n",
      "predicted SOH:  [0.9551922] , Answer SOH:  0.9552820877703224\n",
      "predicted SOH:  [0.957603] , Answer SOH:  0.9610730645911436\n",
      "predicted SOH:  [0.97247916] , Answer SOH:  0.9680049878224272\n",
      "predicted SOH:  [1.0063509] , Answer SOH:  1.0023555602272525\n",
      "predicted SOH:  [0.96244] , Answer SOH:  0.9609445958220808\n",
      "predicted SOH:  [0.9239038] , Answer SOH:  0.9192542343037728\n",
      "predicted SOH:  [0.97109175] , Answer SOH:  0.9675836461952236\n",
      "predicted SOH:  [0.9638384] , Answer SOH:  0.9632363708561972\n",
      "predicted SOH:  [0.91978705] , Answer SOH:  0.9192461488567693\n",
      "predicted SOH:  [0.9912085] , Answer SOH:  0.9920313427861208\n",
      "predicted SOH:  [0.91822493] , Answer SOH:  0.9137480448940272\n",
      "predicted SOH:  [0.96227294] , Answer SOH:  0.9605070833008678\n",
      "predicted SOH:  [0.9182005] , Answer SOH:  0.9168492630115664\n",
      "predicted SOH:  [0.9261228] , Answer SOH:  0.9224596648493348\n",
      "predicted SOH:  [1.0060469] , Answer SOH:  1.002049211624103\n",
      "predicted SOH:  [0.94033927] , Answer SOH:  0.9433174229704506\n",
      "predicted SOH:  [1.0060341] , Answer SOH:  1.002049211624103\n",
      "predicted SOH:  [0.96260244] , Answer SOH:  0.9605070833008678\n",
      "predicted SOH:  [0.9584883] , Answer SOH:  0.9541052060397276\n",
      "predicted SOH:  [0.91602916] , Answer SOH:  0.9094492822369464\n",
      "predicted SOH:  [1.0058287] , Answer SOH:  1.002049211624103\n",
      "predicted SOH:  [0.91971177] , Answer SOH:  0.9192461488567693\n",
      "predicted SOH:  [0.9084215] , Answer SOH:  0.9080774513953834\n",
      "predicted SOH:  [0.98218536] , Answer SOH:  0.9781432399823624\n",
      "predicted SOH:  [0.97845834] , Answer SOH:  0.971540124929146\n",
      "predicted SOH:  [0.9799756] , Answer SOH:  0.9772969631960468\n",
      "predicted SOH:  [0.9830511] , Answer SOH:  0.9794036713319748\n",
      "predicted SOH:  [0.9950927] , Answer SOH:  0.99369245295393\n",
      "predicted SOH:  [0.98811424] , Answer SOH:  0.9809991995408496\n",
      "predicted SOH:  [0.94165874] , Answer SOH:  0.9372623215475452\n",
      "predicted SOH:  [0.9215348] , Answer SOH:  0.92128008796976\n",
      "predicted SOH:  [0.993965] , Answer SOH:  0.9931444393237656\n",
      "predicted SOH:  [0.934275] , Answer SOH:  0.9322807878100934\n",
      "predicted SOH:  [0.9775573] , Answer SOH:  0.9763096402785654\n",
      "predicted SOH:  [0.97940654] , Answer SOH:  0.9748794145417716\n",
      "predicted SOH:  [0.91625524] , Answer SOH:  0.9178455697590792\n",
      "predicted SOH:  [0.93565696] , Answer SOH:  0.9368301993243144\n",
      "predicted SOH:  [0.9971991] , Answer SOH:  0.9942665196913122\n",
      "predicted SOH:  [0.9473318] , Answer SOH:  0.9552820877703224\n",
      "predicted SOH:  [0.92659795] , Answer SOH:  0.921376214950807\n",
      "predicted SOH:  [0.9566839] , Answer SOH:  0.958462363591797\n",
      "predicted SOH:  [0.96701694] , Answer SOH:  0.955269510408258\n",
      "predicted SOH:  [0.9611189] , Answer SOH:  0.9506563137010164\n",
      "predicted SOH:  [0.99508786] , Answer SOH:  0.99369245295393\n",
      "predicted SOH:  [0.97871524] , Answer SOH:  0.9722157089455712\n",
      "predicted SOH:  [0.98275244] , Answer SOH:  0.9794036713319748\n",
      "predicted SOH:  [0.942876] , Answer SOH:  0.940965456275349\n",
      "predicted SOH:  [0.9314017] , Answer SOH:  0.9314237304276574\n",
      "predicted SOH:  [0.9536803] , Answer SOH:  0.9538401830546204\n",
      "predicted SOH:  [0.92830515] , Answer SOH:  0.9192470472397698\n",
      "predicted SOH:  [0.9644603] , Answer SOH:  0.9629210384230438\n",
      "predicted SOH:  [0.9238746] , Answer SOH:  0.9228612420505302\n",
      "predicted SOH:  [0.9247847] , Answer SOH:  0.9187035255245052\n",
      "predicted SOH:  [0.9160854] , Answer SOH:  0.909651418412063\n",
      "predicted SOH:  [0.9468074] , Answer SOH:  0.9524593683829476\n",
      "predicted SOH:  [0.97449714] , Answer SOH:  0.9763446772154856\n",
      "predicted SOH:  [0.9678975] , Answer SOH:  0.961793567757452\n",
      "predicted SOH:  [0.9704953] , Answer SOH:  0.9645336359088292\n",
      "predicted SOH:  [0.9077889] , Answer SOH:  0.9146329521494628\n",
      "predicted SOH:  [0.9909402] , Answer SOH:  0.9875960259129632\n",
      "predicted SOH:  [0.9775221] , Answer SOH:  0.9746188834717416\n",
      "predicted SOH:  [0.968248] , Answer SOH:  0.961793567757452\n",
      "predicted SOH:  [0.92430305] , Answer SOH:  0.9216466282339386\n",
      "predicted SOH:  [0.9493141] , Answer SOH:  0.9424468898430388\n",
      "predicted SOH:  [0.924459] , Answer SOH:  0.9199361070011056\n",
      "predicted SOH:  [0.9213472] , Answer SOH:  0.9187125093546088\n",
      "predicted SOH:  [0.9624576] , Answer SOH:  0.962582348031786\n",
      "predicted SOH:  [0.9664122] , Answer SOH:  0.955269510408258\n",
      "predicted SOH:  [0.93485457] , Answer SOH:  0.9302306778030688\n",
      "predicted SOH:  [0.95518196] , Answer SOH:  0.9529409016711806\n",
      "predicted SOH:  [0.92020005] , Answer SOH:  0.9172041242967194\n",
      "predicted SOH:  [0.9681138] , Answer SOH:  0.968735373201876\n",
      "predicted SOH:  [0.97617996] , Answer SOH:  0.976826210503817\n",
      "predicted SOH:  [0.9211037] , Answer SOH:  0.9187125093546088\n",
      "predicted SOH:  [0.9454245] , Answer SOH:  0.9250613820185668\n",
      "predicted SOH:  [0.9828873] , Answer SOH:  0.9794036713319748\n",
      "predicted SOH:  [0.94022894] , Answer SOH:  0.9453298008914344\n",
      "predicted SOH:  [0.99519706] , Answer SOH:  0.9938550602770082\n",
      "predicted SOH:  [0.9961058] , Answer SOH:  0.9890657805016834\n",
      "predicted SOH:  [0.94150925] , Answer SOH:  0.9371060029054687\n",
      "predicted SOH:  [0.9866212] , Answer SOH:  0.9830915335488688\n",
      "predicted SOH:  [0.91721135] , Answer SOH:  0.9201795687943236\n",
      "predicted SOH:  [0.9865447] , Answer SOH:  0.980410758675464\n",
      "predicted SOH:  [0.9982232] , Answer SOH:  0.9983101415761768\n",
      "predicted SOH:  [0.98900443] , Answer SOH:  0.9851290661938612\n",
      "predicted SOH:  [0.94759345] , Answer SOH:  0.9464042669599816\n",
      "predicted SOH:  [0.95304275] , Answer SOH:  0.9538401830546204\n",
      "predicted SOH:  [0.96786666] , Answer SOH:  0.968735373201876\n",
      "predicted SOH:  [0.99724853] , Answer SOH:  0.9942665196913122\n",
      "predicted SOH:  [0.97598743] , Answer SOH:  0.976301554831464\n",
      "predicted SOH:  [0.9142406] , Answer SOH:  0.907453973593056\n",
      "predicted SOH:  [0.9482533] , Answer SOH:  0.9419923080448048\n",
      "predicted SOH:  [0.9540367] , Answer SOH:  0.9552820877703224\n",
      "predicted SOH:  [0.9710845] , Answer SOH:  0.9709004762328348\n",
      "predicted SOH:  [0.9678979] , Answer SOH:  0.961793567757452\n",
      "predicted SOH:  [0.9459653] , Answer SOH:  0.947788675163619\n",
      "predicted SOH:  [0.9607888] , Answer SOH:  0.956528144991882\n",
      "predicted SOH:  [0.9122266] , Answer SOH:  0.907842973432187\n",
      "predicted SOH:  [0.9882907] , Answer SOH:  0.9897683160081212\n",
      "predicted SOH:  [0.99932986] , Answer SOH:  0.9953329003128316\n",
      "predicted SOH:  [0.91949224] , Answer SOH:  0.9196064004400444\n",
      "predicted SOH:  [0.92023957] , Answer SOH:  0.9172041242967194\n",
      "predicted SOH:  [0.9913694] , Answer SOH:  0.9920313427861208\n",
      "predicted SOH:  [0.983347] , Answer SOH:  0.9875960259129632\n",
      "predicted SOH:  [0.93499637] , Answer SOH:  0.9302306778030688\n",
      "predicted SOH:  [0.9872675] , Answer SOH:  0.9905364334734952\n",
      "predicted SOH:  [0.98959947] , Answer SOH:  0.9942665196913122\n",
      "predicted SOH:  [0.9616679] , Answer SOH:  0.9506563137010164\n",
      "predicted SOH:  [0.91842055] , Answer SOH:  0.9224596648493348\n",
      "predicted SOH:  [0.92707956] , Answer SOH:  0.921376214950807\n",
      "predicted SOH:  [0.96595615] , Answer SOH:  0.9565730641419514\n",
      "predicted SOH:  [0.9411772] , Answer SOH:  0.9371060029054687\n",
      "predicted SOH:  [0.9744205] , Answer SOH:  0.9690300428260196\n",
      "predicted SOH:  [0.9155148] , Answer SOH:  0.9080774513953834\n",
      "predicted SOH:  [0.97816026] , Answer SOH:  0.9739271285614048\n",
      "predicted SOH:  [0.9721147] , Answer SOH:  0.9748794145417716\n",
      "predicted SOH:  [0.9538998] , Answer SOH:  0.9524593683829476\n",
      "predicted SOH:  [0.96199864] , Answer SOH:  0.9609445958220808\n",
      "predicted SOH:  [0.95367557] , Answer SOH:  0.9551787737252722\n",
      "predicted SOH:  [0.9218604] , Answer SOH:  0.9268500625724624\n",
      "predicted SOH:  [0.92180836] , Answer SOH:  0.916145829122358\n",
      "predicted SOH:  [0.9405601] , Answer SOH:  0.940509976094127\n",
      "predicted SOH:  [0.95382977] , Answer SOH:  0.9591406427571196\n",
      "predicted SOH:  [0.9141225] , Answer SOH:  0.9109388012517808\n",
      "predicted SOH:  [0.9642648] , Answer SOH:  0.9632363708561972\n",
      "predicted SOH:  [0.96829534] , Answer SOH:  0.9636738833773358\n",
      "predicted SOH:  [0.9682825] , Answer SOH:  0.961793567757452\n",
      "predicted SOH:  [0.94760406] , Answer SOH:  0.9419923080448048\n",
      "predicted SOH:  [0.9649004] , Answer SOH:  0.9629210384230438\n",
      "predicted SOH:  [0.9739865] , Answer SOH:  0.9784010759034856\n",
      "predicted SOH:  [0.97123414] , Answer SOH:  0.9709004762328348\n",
      "predicted SOH:  [0.91377664] , Answer SOH:  0.9074279204860128\n",
      "predicted SOH:  [0.9343324] , Answer SOH:  0.930576555258244\n",
      "predicted SOH:  [0.9670871] , Answer SOH:  0.9690300428260196\n",
      "predicted SOH:  [0.9148425] , Answer SOH:  0.9146329521494628\n",
      "predicted SOH:  [0.9234768] , Answer SOH:  0.9211246677106844\n",
      "predicted SOH:  [0.96247596] , Answer SOH:  0.9615977202633992\n",
      "predicted SOH:  [0.96663004] , Answer SOH:  0.9696517238623222\n",
      "predicted SOH:  [0.9238427] , Answer SOH:  0.9178455697590792\n",
      "predicted SOH:  [0.92508185] , Answer SOH:  0.9216466282339386\n",
      "predicted SOH:  [0.9171389] , Answer SOH:  0.9216466282339386\n",
      "predicted SOH:  [0.9295883] , Answer SOH:  0.9154971965959292\n",
      "predicted SOH:  [0.92211306] , Answer SOH:  0.9164396003635012\n",
      "predicted SOH:  [0.94224954] , Answer SOH:  0.940965456275349\n",
      "predicted SOH:  [0.9940438] , Answer SOH:  0.9938550602770082\n",
      "predicted SOH:  [0.962662] , Answer SOH:  0.962582348031786\n",
      "predicted SOH:  [0.9142231] , Answer SOH:  0.9086883518355752\n",
      "predicted SOH:  [0.9598242] , Answer SOH:  0.9533334950423228\n",
      "predicted SOH:  [0.959723] , Answer SOH:  0.9576690914024076\n",
      "predicted SOH:  [0.95591545] , Answer SOH:  0.9573124333512472\n",
      "predicted SOH:  [1.0047623] , Answer SOH:  1.0008076463174984\n",
      "predicted SOH:  [0.98197573] , Answer SOH:  0.9788071450196844\n",
      "predicted SOH:  [1.0041677] , Answer SOH:  1.0004662607773325\n",
      "predicted SOH:  [0.9875231] , Answer SOH:  0.980410758675464\n",
      "predicted SOH:  [0.94636905] , Answer SOH:  0.947788675163619\n",
      "predicted SOH:  [0.99113405] , Answer SOH:  0.9857552391451664\n",
      "predicted SOH:  [1.0056454] , Answer SOH:  1.002049211624103\n",
      "predicted SOH:  [0.9944241] , Answer SOH:  0.9906693941574582\n",
      "predicted SOH:  [0.9090659] , Answer SOH:  0.909651418412063\n",
      "predicted SOH:  [0.9165398] , Answer SOH:  0.909651418412063\n",
      "predicted SOH:  [0.9405037] , Answer SOH:  0.940509976094127\n",
      "predicted SOH:  [0.92233616] , Answer SOH:  0.9164396003635012\n",
      "predicted SOH:  [0.92523557] , Answer SOH:  0.9187493430575274\n",
      "predicted SOH:  [0.92779064] , Answer SOH:  0.9192470472397698\n",
      "predicted SOH:  [0.9412123] , Answer SOH:  0.9371060029054687\n",
      "predicted SOH:  [0.98753583] , Answer SOH:  0.980410758675464\n",
      "predicted SOH:  [0.9712716] , Answer SOH:  0.9675836461952236\n",
      "predicted SOH:  [0.9138986] , Answer SOH:  0.9268500625724624\n",
      "predicted SOH:  [0.9179388] , Answer SOH:  0.9137480448940272\n",
      "predicted SOH:  [0.9771409] , Answer SOH:  0.976826210503817\n",
      "predicted SOH:  [0.91880333] , Answer SOH:  0.9122297776233256\n",
      "predicted SOH:  [0.92291456] , Answer SOH:  0.916298554232262\n"
     ]
    },
    {
     "data": {
      "text/plain": [
       "(0.87, 1.02)"
      ]
     },
     "execution_count": 138,
     "metadata": {},
     "output_type": "execute_result"
    },
    {
     "data": {
      "image/png": "[encoded data removed]",
      "text/plain": [
       "<Figure size 1080x576 with 1 Axes>"
      ]
     },
     "metadata": {
      "needs_background": "light"
     },
     "output_type": "display_data"
    }
   ],
   "source": [
    "for i in range(len(predict)):\n",
    "    print('predicted SOH: ' , predict[i],',' , 'Answer SOH: '  , y_test[i])\n",
    "\n",
    "\n",
    "plt.figure(figsize = (15,8))\n",
    "plt.plot(y_test, y_test)\n",
    "plt.scatter(y_test, predict)\n",
    "plt.ylim(0.87, 1.02)"
   ]
  },
  {
   "cell_type": "markdown",
   "id": "d904031d",
   "metadata": {},
   "source": [
    "## 3. Applied to module data"
   ]
  },
  {
   "cell_type": "code",
   "execution_count": 139,
   "id": "36750acd",
   "metadata": {},
   "outputs": [],
   "source": [
    "m_predict = model.predict(X_module, verbose = 0)"
   ]
  },
  {
   "cell_type": "code",
   "execution_count": 140,
   "id": "b1087032",
   "metadata": {},
   "outputs": [],
   "source": [
    "r2 = metrics.r2_score(y_module, m_predict)\n",
    "rmse = metrics.mean_squared_error(y_module, m_predict)**0.5\n",
    "mse = metrics.mean_squared_error(y_module, m_predict)\n",
    "mae = metrics.mean_absolute_error(y_module, m_predict)\n",
    "mape = metrics.mean_absolute_percentage_error(y_module,m_predict)"
   ]
  },
  {
   "cell_type": "code",
   "execution_count": 141,
   "id": "68ca1caa",
   "metadata": {},
   "outputs": [
    {
     "name": "stdout",
     "output_type": "stream",
     "text": [
      "0.005690881294429828\n"
     ]
    }
   ],
   "source": [
    "print(rmse)"
   ]
  },
  {
   "cell_type": "code",
   "execution_count": null,
   "id": "abe855f3",
   "metadata": {},
   "outputs": [],
   "source": []
  }
 ],
 "metadata": {
  "kernelspec": {
   "display_name": "Python 3",
   "language": "python",
   "name": "python3"
  },
  "language_info": {
   "codemirror_mode": {
    "name": "ipython",
    "version": 3
   },
   "file_extension": ".py",
   "mimetype": "text/x-python",
   "name": "python",
   "nbconvert_exporter": "python",
   "pygments_lexer": "ipython3",
   "version": "3.8.8"
  }
 },
 "nbformat": 4,
 "nbformat_minor": 5
}
